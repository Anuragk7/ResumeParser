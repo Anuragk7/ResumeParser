{
 "cells": [
  {
   "cell_type": "code",
   "execution_count": null,
   "id": "46f5a6f4-ddba-43f1-bacc-20bf245fcd7a",
   "metadata": {},
   "outputs": [],
   "source": [
    "\n",
    "\n",
    "!pip install transformers torchtext tokenizers"
   ]
  },
  {
   "cell_type": "code",
   "execution_count": 3,
   "id": "96279eb9-ce13-47a9-b99b-ef42dddf92d6",
   "metadata": {},
   "outputs": [
    {
     "name": "stderr",
     "output_type": "stream",
     "text": [
      "D:\\jupyter\\envs\\myenv\\Lib\\site-packages\\tqdm\\auto.py:21: TqdmWarning: IProgress not found. Please update jupyter and ipywidgets. See https://ipywidgets.readthedocs.io/en/stable/user_install.html\n",
      "  from .autonotebook import tqdm as notebook_tqdm\n"
     ]
    }
   ],
   "source": [
    "import torch\n",
    "from transformers import BertTokenizer, BertForTokenClassification\n",
    "from transformers import AdamW, get_linear_schedule_with_warmup\n",
    "from torch.utils.data import DataLoader"
   ]
  },
  {
   "cell_type": "code",
   "execution_count": null,
   "id": "72da47e8-cc5d-4bca-8c71-1422c58c0936",
   "metadata": {},
   "outputs": [],
   "source": [
    "import json\n",
    "\n",
    "\n",
    "path = \"D:/1work/archive (1)/Entity Recognition in Resumes.json\"\n",
    "# Open the JSON file for reading\n",
    "json_objects = []\n",
    "\n",
    "# Open the JSON file for reading with UTF-8 encoding\n",
    "with open(path, 'r', encoding='utf-8') as file:\n",
    "    # Read each line in the file\n",
    "    for line in file:\n",
    "        # Strip any leading/trailing whitespace characters and newline characters\n",
    "        line = line.strip()\n",
    "        if line:\n",
    "            # Parse the line as JSON and append the parsed object to the list\n",
    "            json_objects.append(json.loads(line))\n",
    "\n",
    "# Print the parsed JSON objects\n",
    "text = []\n",
    "labels = []\n",
    "\n",
    "for cv in json_objects:\n",
    "    for blocks in cv['annotation']:\n",
    "        labels.append(blocks['label'])\n",
    "        text.append(blocks['points'][0]['text'])\n",
    "        \n",
    "   \n",
    "print (text)\n",
    "def tokenize_and_preserve_labels(sentence, label):\n",
    "    tokenized_sentence = []\n",
    "    labels = []\n",
    "\n",
    "    for word, label in sentence:\n",
    "        tokenized_word = tokenizer.tokenize(word)\n",
    "        n_subwords = len(tokenized_word)\n",
    "        tokenized_sentence.extend(tokenized_word)\n",
    "        labels.extend(label * n_subwords)\n",
    "\n",
    "    return tokenized_sentence, labels\n"
   ]
  },
  {
   "cell_type": "code",
   "execution_count": null,
   "id": "ed68ea4b-8c3f-47c9-a8c7-4a60fb6247e2",
   "metadata": {},
   "outputs": [],
   "source": []
  }
 ],
 "metadata": {
  "kernelspec": {
   "display_name": "Python 3 (ipykernel)",
   "language": "python",
   "name": "python3"
  },
  "language_info": {
   "codemirror_mode": {
    "name": "ipython",
    "version": 3
   },
   "file_extension": ".py",
   "mimetype": "text/x-python",
   "name": "python",
   "nbconvert_exporter": "python",
   "pygments_lexer": "ipython3",
   "version": "3.11.4"
  }
 },
 "nbformat": 4,
 "nbformat_minor": 5
}
