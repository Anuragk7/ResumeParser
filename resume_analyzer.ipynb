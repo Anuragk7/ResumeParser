{
 "cells": [
  {
   "cell_type": "code",
   "execution_count": 26,
   "id": "72da47e8-cc5d-4bca-8c71-1422c58c0936",
   "metadata": {},
   "outputs": [
    {
     "name": "stdout",
     "output_type": "stream",
     "text": [
      "\n",
      "• Programming language: C, C++, Java\n",
      "• Oracle PeopleSoft\n",
      "• Internet Of Things\n",
      "• Machine Learning\n",
      "• Database Management System\n",
      "• Computer Networks\n",
      "• Operating System worked on: Linux, Windows, Mac\n",
      "\n",
      "Non - Technical Skills\n",
      "\n",
      "• Honest and Hard-Working\n",
      "• Tolerant and Flexible to Different Situations\n",
      "• Polite and Calm\n",
      "• Team-Player\n",
      "{'label': ['Skills'], 'points': [{'start': 1295, 'end': 1621, 'text': '\\n• Programming language: C, C++, Java\\n• Oracle PeopleSoft\\n• Internet Of Things\\n• Machine Learning\\n• Database Management System\\n• Computer Networks\\n• Operating System worked on: Linux, Windows, Mac\\n\\nNon - Technical Skills\\n\\n• Honest and Hard-Working\\n• Tolerant and Flexible to Different Situations\\n• Polite and Calm\\n• Team-Player'}]}\n"
     ]
    }
   ],
   "source": [
    "import json\n",
    "\n",
    "\n",
    "path = \"D:/1work/archive (1)/Entity Recognition in Resumes.json\"\n",
    "# Open the JSON file for reading\n",
    "json_objects = []\n",
    "\n",
    "# Open the JSON file for reading with UTF-8 encoding\n",
    "with open(path, 'r', encoding='utf-8') as file:\n",
    "    # Read each line in the file\n",
    "    for line in file:\n",
    "        # Strip any leading/trailing whitespace characters and newline characters\n",
    "        line = line.strip()\n",
    "        if line:\n",
    "            # Parse the line as JSON and append the parsed object to the list\n",
    "            json_objects.append(json.loads(line))\n",
    "\n",
    "# Print the parsed JSON objects\n",
    "print (json_objects[0]['content'][1295:1622])\n",
    "print (json_objects[0]['annotation'][0])\n"
   ]
  },
  {
   "cell_type": "code",
   "execution_count": null,
   "id": "ed68ea4b-8c3f-47c9-a8c7-4a60fb6247e2",
   "metadata": {},
   "outputs": [],
   "source": []
  }
 ],
 "metadata": {
  "kernelspec": {
   "display_name": "Python 3 (ipykernel)",
   "language": "python",
   "name": "python3"
  },
  "language_info": {
   "codemirror_mode": {
    "name": "ipython",
    "version": 3
   },
   "file_extension": ".py",
   "mimetype": "text/x-python",
   "name": "python",
   "nbconvert_exporter": "python",
   "pygments_lexer": "ipython3",
   "version": "3.11.4"
  }
 },
 "nbformat": 4,
 "nbformat_minor": 5
}
